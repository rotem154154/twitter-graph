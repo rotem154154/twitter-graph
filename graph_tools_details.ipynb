{
 "cells": [
  {
   "cell_type": "code",
   "execution_count": 10,
   "metadata": {},
   "outputs": [
    {
     "name": "stdout",
     "output_type": "stream",
     "text": [
      "<Graph object, undirected, with 13595862 vertices and 30528043 edges, 2 internal vertex properties, 1 internal edge property, at 0x7ffcf4002650>\n"
     ]
    }
   ],
   "source": [
    "from graph_tool.all import *\n",
    "\n",
    "import dill\n",
    "import sys\n",
    "\n",
    "\n",
    "g2 = load_graph(\"graph_version_4.graphml\")\n",
    "print(g2)"
   ]
  },
  {
   "cell_type": "raw",
   "metadata": {
    "jupyter": {
     "outputs_hidden": false
    },
    "pycharm": {
     "name": "#%%\n"
    }
   },
   "source": []
  },
  {
   "cell_type": "code",
   "execution_count": null,
   "metadata": {
    "collapsed": false,
    "jupyter": {
     "outputs_hidden": false
    },
    "pycharm": {
     "name": "#%%\n"
    }
   },
   "outputs": [],
   "source": []
  },
  {
   "cell_type": "code",
   "execution_count": null,
   "outputs": [],
   "source": [
    "# %%capture\n",
    "print(g2.vp)\n",
    "for v in g2.vertices():\n",
    "    print(g2.vp['_graphml_vertex_id'][v])\n",
    "    print(v)\n",
    "    break"
   ],
   "metadata": {
    "collapsed": false,
    "pycharm": {
     "name": "#%%\n"
    }
   }
  },
  {
   "cell_type": "code",
   "execution_count": null,
   "outputs": [],
   "source": [],
   "metadata": {
    "collapsed": false,
    "pycharm": {
     "name": "#%%\n"
    }
   }
  },
  {
   "cell_type": "code",
   "execution_count": null,
   "outputs": [],
   "source": [
    "layer1 = 0\n",
    "for i in g2.vertices():\n",
    "    b = g2.vp['layer'][i]\n",
    "    if b > biggest_layer:\n",
    "        biggest_layer = b\n",
    "print(b)"
   ],
   "metadata": {
    "collapsed": false,
    "pycharm": {
     "name": "#%%\n"
    }
   }
  },
  {
   "cell_type": "code",
   "execution_count": null,
   "outputs": [],
   "source": [],
   "metadata": {
    "collapsed": false,
    "pycharm": {
     "name": "#%%\n"
    }
   }
  },
  {
   "cell_type": "code",
   "execution_count": null,
   "outputs": [],
   "source": [
    "dill.dump_session('kernals/graph4-1.db')"
   ],
   "metadata": {
    "collapsed": false,
    "pycharm": {
     "name": "#%%\n"
    }
   }
  },
  {
   "cell_type": "code",
   "execution_count": null,
   "outputs": [],
   "source": [
    "dill.load_session('kernals/graph4-1.db')\n"
   ],
   "metadata": {
    "collapsed": false,
    "pycharm": {
     "name": "#%%\n"
    }
   }
  },
  {
   "cell_type": "code",
   "execution_count": 36,
   "metadata": {},
   "outputs": [
    {
     "name": "stdout",
     "output_type": "stream",
     "text": [
      "{'_graphml_vertex_id': <VertexPropertyMap object with value type 'string', for Graph 0x7fd660b25fd0, at 0x7fd662db7590>, 'layer': <VertexPropertyMap object with value type 'int64_t', for Graph 0x7fd660b25fd0, at 0x7fd6621e7a90>}\n",
      "TaalooR\n",
      "0\n"
     ]
    }
   ],
   "source": [
    "dill.load_session('kernals/graph4-1.db')\n"
   ]
  },
  {
   "cell_type": "code",
   "execution_count": null,
   "metadata": {},
   "outputs": [],
   "source": []
  },
  {
   "cell_type": "code",
   "execution_count": 15,
   "metadata": {},
   "outputs": [
    {
     "name": "stdout",
     "output_type": "stream",
     "text": [
      "2\n"
     ]
    }
   ],
   "source": [
    "layer1 = 0\n",
    "for i in g2.vertices():\n",
    "    b = g2.vp['layer'][i]\n",
    "    if b > biggest_layer:\n",
    "        biggest_layer = b\n",
    "print(b)"
   ]
  },
  {
   "cell_type": "code",
   "execution_count": null,
   "metadata": {},
   "outputs": [],
   "source": []
  },
  {
   "cell_type": "code",
   "execution_count": 11,
   "metadata": {},
   "outputs": [],
   "source": [
    "dill.dump_session('kernals/graph4-1.db')"
   ]
  },
  {
   "cell_type": "code",
   "execution_count": 4,
   "metadata": {},
   "outputs": [],
   "source": [
    "dill.load_session('kernals/graph4-1.db')\n"
   ]
  }
 ],
 "metadata": {
  "kernelspec": {
   "display_name": "PyCharm (python)",
   "language": "python",
   "name": "pycharm-406522ad"
  },
  "language_info": {
   "codemirror_mode": {
    "name": "ipython",
    "version": 3
   },
   "file_extension": ".py",
   "mimetype": "text/x-python",
   "name": "python",
   "nbconvert_exporter": "python",
   "pygments_lexer": "ipython3",
   "version": "3.7.8"
  }
 },
 "nbformat": 4,
 "nbformat_minor": 4
}